{
 "cells": [
  {
   "cell_type": "code",
   "execution_count": 2,
   "id": "70677575",
   "metadata": {},
   "outputs": [
    {
     "name": "stderr",
     "output_type": "stream",
     "text": [
      "/Users/arav/git/GEARS/.venv/lib/python3.13/site-packages/anndata/__init__.py:44: FutureWarning: Importing read_csv from `anndata` is deprecated. Import anndata.io.read_csv instead.\n",
      "  return module_get_attr_redirect(attr_name, deprecated_mapping=_DEPRECATED)\n",
      "/Users/arav/git/GEARS/.venv/lib/python3.13/site-packages/anndata/__init__.py:44: FutureWarning: Importing read_excel from `anndata` is deprecated. Import anndata.io.read_excel instead.\n",
      "  return module_get_attr_redirect(attr_name, deprecated_mapping=_DEPRECATED)\n",
      "/Users/arav/git/GEARS/.venv/lib/python3.13/site-packages/anndata/__init__.py:44: FutureWarning: Importing read_hdf from `anndata` is deprecated. Import anndata.io.read_hdf instead.\n",
      "  return module_get_attr_redirect(attr_name, deprecated_mapping=_DEPRECATED)\n",
      "/Users/arav/git/GEARS/.venv/lib/python3.13/site-packages/anndata/__init__.py:44: FutureWarning: Importing read_loom from `anndata` is deprecated. Import anndata.io.read_loom instead.\n",
      "  return module_get_attr_redirect(attr_name, deprecated_mapping=_DEPRECATED)\n",
      "/Users/arav/git/GEARS/.venv/lib/python3.13/site-packages/anndata/__init__.py:44: FutureWarning: Importing read_mtx from `anndata` is deprecated. Import anndata.io.read_mtx instead.\n",
      "  return module_get_attr_redirect(attr_name, deprecated_mapping=_DEPRECATED)\n",
      "/Users/arav/git/GEARS/.venv/lib/python3.13/site-packages/anndata/__init__.py:44: FutureWarning: Importing read_text from `anndata` is deprecated. Import anndata.io.read_text instead.\n",
      "  return module_get_attr_redirect(attr_name, deprecated_mapping=_DEPRECATED)\n",
      "/Users/arav/git/GEARS/.venv/lib/python3.13/site-packages/anndata/__init__.py:44: FutureWarning: Importing read_umi_tools from `anndata` is deprecated. Import anndata.io.read_umi_tools instead.\n",
      "  return module_get_attr_redirect(attr_name, deprecated_mapping=_DEPRECATED)\n",
      "OMP: Info #276: omp_set_nested routine deprecated, please use omp_set_max_active_levels instead.\n"
     ]
    }
   ],
   "source": [
    "import sys\n",
    "sys.path.append('../')\n",
    "\n",
    "from gears import PertData, GEARS"
   ]
  },
  {
   "cell_type": "markdown",
   "id": "c3640262",
   "metadata": {},
   "source": [
    "Load data. We use norman as an example."
   ]
  },
  {
   "cell_type": "code",
   "execution_count": null,
   "id": "6343bc57",
   "metadata": {},
   "outputs": [
    {
     "name": "stderr",
     "output_type": "stream",
     "text": [
      "Found local copy...\n",
      "Found local copy...\n",
      "Found local copy...\n",
      "These perturbations are not in the GO graph and their perturbation can thus not be predicted\n",
      "['RHOXF2BB+ctrl' 'LYL1+IER5L' 'ctrl+IER5L' 'KIAA1804+ctrl' 'IER5L+ctrl'\n",
      " 'RHOXF2BB+ZBTB25' 'RHOXF2BB+SET']\n",
      "Local copy of pyg dataset is detected. Loading...\n"
     ]
    }
   ],
   "source": [
    "pert_data = PertData('./data')\n",
    "pert_data.load(data_name = 'norman')\n",
    "pert_data.prepare_split(split = 'simulation', seed = 1)\n",
    "pert_data.get_dataloader(batch_size = 32, test_batch_size = 128)"
   ]
  },
  {
   "cell_type": "markdown",
   "id": "389286ca",
   "metadata": {},
   "source": [
    "Create a model object; if you use [wandb](https://wandb.ai), you can easily track model training and evaluation by setting `weight_bias_track` to true, and specify the `proj_name` and `exp_name` that you like."
   ]
  },
  {
   "cell_type": "code",
   "execution_count": 3,
   "id": "9ef61035",
   "metadata": {},
   "outputs": [
    {
     "ename": "AttributeError",
     "evalue": "'Series' object has no attribute 'nonzero'",
     "output_type": "error",
     "traceback": [
      "\u001b[0;31m---------------------------------------------------------------------------\u001b[0m",
      "\u001b[0;31mAttributeError\u001b[0m                            Traceback (most recent call last)",
      "\u001b[0;32m/var/folders/7_/dyzyr7j12mx5_8rbvq0b52r80000gn/T/ipykernel_68939/788616673.py\u001b[0m in \u001b[0;36m?\u001b[0;34m()\u001b[0m\n\u001b[0;32m----> 1\u001b[0;31m gears_model = GEARS(pert_data, device = 'cuda:7', \n\u001b[0m\u001b[1;32m      2\u001b[0m                         \u001b[0mweight_bias_track\u001b[0m \u001b[0;34m=\u001b[0m \u001b[0;32mFalse\u001b[0m\u001b[0;34m,\u001b[0m\u001b[0;34m\u001b[0m\u001b[0;34m\u001b[0m\u001b[0m\n\u001b[1;32m      3\u001b[0m                         \u001b[0mproj_name\u001b[0m \u001b[0;34m=\u001b[0m \u001b[0;34m'pertnet'\u001b[0m\u001b[0;34m,\u001b[0m\u001b[0;34m\u001b[0m\u001b[0;34m\u001b[0m\u001b[0m\n\u001b[1;32m      4\u001b[0m                         \u001b[0mexp_name\u001b[0m \u001b[0;34m=\u001b[0m \u001b[0;34m'pertnet'\u001b[0m\u001b[0;34m)\u001b[0m\u001b[0;34m\u001b[0m\u001b[0;34m\u001b[0m\u001b[0m\n",
      "\u001b[0;32m/opt/homebrew/anaconda3/lib/python3.13/site-packages/gears/gears.py\u001b[0m in \u001b[0;36m?\u001b[0;34m(self, pert_data, device, weight_bias_track, proj_name, exp_name)\u001b[0m\n\u001b[1;32m     83\u001b[0m         \u001b[0mself\u001b[0m\u001b[0;34m.\u001b[0m\u001b[0msaved_pred\u001b[0m \u001b[0;34m=\u001b[0m \u001b[0;34m{\u001b[0m\u001b[0;34m}\u001b[0m\u001b[0;34m\u001b[0m\u001b[0;34m\u001b[0m\u001b[0m\n\u001b[1;32m     84\u001b[0m         \u001b[0mself\u001b[0m\u001b[0;34m.\u001b[0m\u001b[0msaved_logvar_sum\u001b[0m \u001b[0;34m=\u001b[0m \u001b[0;34m{\u001b[0m\u001b[0;34m}\u001b[0m\u001b[0;34m\u001b[0m\u001b[0;34m\u001b[0m\u001b[0m\n\u001b[1;32m     85\u001b[0m \u001b[0;34m\u001b[0m\u001b[0m\n\u001b[1;32m     86\u001b[0m         self.ctrl_expression = torch.tensor(\n\u001b[0;32m---> 87\u001b[0;31m             np.mean(self.adata.X[self.adata.obs.condition == 'ctrl'],\n\u001b[0m\u001b[1;32m     88\u001b[0m                     \u001b[0maxis\u001b[0m\u001b[0;34m=\u001b[0m\u001b[0;36m0\u001b[0m\u001b[0;34m)\u001b[0m\u001b[0;34m)\u001b[0m\u001b[0;34m.\u001b[0m\u001b[0mreshape\u001b[0m\u001b[0;34m(\u001b[0m\u001b[0;34m-\u001b[0m\u001b[0;36m1\u001b[0m\u001b[0;34m,\u001b[0m \u001b[0;34m)\u001b[0m\u001b[0;34m.\u001b[0m\u001b[0mto\u001b[0m\u001b[0;34m(\u001b[0m\u001b[0mself\u001b[0m\u001b[0;34m.\u001b[0m\u001b[0mdevice\u001b[0m\u001b[0;34m)\u001b[0m\u001b[0;34m\u001b[0m\u001b[0;34m\u001b[0m\u001b[0m\n\u001b[1;32m     89\u001b[0m         \u001b[0mpert_full_id2pert\u001b[0m \u001b[0;34m=\u001b[0m \u001b[0mdict\u001b[0m\u001b[0;34m(\u001b[0m\u001b[0mself\u001b[0m\u001b[0;34m.\u001b[0m\u001b[0madata\u001b[0m\u001b[0;34m.\u001b[0m\u001b[0mobs\u001b[0m\u001b[0;34m[\u001b[0m\u001b[0;34m[\u001b[0m\u001b[0;34m'condition_name'\u001b[0m\u001b[0;34m,\u001b[0m \u001b[0;34m'condition'\u001b[0m\u001b[0;34m]\u001b[0m\u001b[0;34m]\u001b[0m\u001b[0;34m.\u001b[0m\u001b[0mvalues\u001b[0m\u001b[0;34m)\u001b[0m\u001b[0;34m\u001b[0m\u001b[0;34m\u001b[0m\u001b[0m\n\u001b[1;32m     90\u001b[0m         self.dict_filter = {pert_full_id2pert[i]: j for i, j in\n",
      "\u001b[0;32m/opt/homebrew/anaconda3/lib/python3.13/site-packages/scipy/sparse/_index.py\u001b[0m in \u001b[0;36m?\u001b[0;34m(self, key)\u001b[0m\n\u001b[1;32m     29\u001b[0m     \u001b[0;32mdef\u001b[0m \u001b[0m__getitem__\u001b[0m\u001b[0;34m(\u001b[0m\u001b[0mself\u001b[0m\u001b[0;34m,\u001b[0m \u001b[0mkey\u001b[0m\u001b[0;34m)\u001b[0m\u001b[0;34m:\u001b[0m\u001b[0;34m\u001b[0m\u001b[0;34m\u001b[0m\u001b[0m\n\u001b[0;32m---> 30\u001b[0;31m         \u001b[0mindex\u001b[0m\u001b[0;34m,\u001b[0m \u001b[0mnew_shape\u001b[0m \u001b[0;34m=\u001b[0m \u001b[0mself\u001b[0m\u001b[0;34m.\u001b[0m\u001b[0m_validate_indices\u001b[0m\u001b[0;34m(\u001b[0m\u001b[0mkey\u001b[0m\u001b[0;34m)\u001b[0m\u001b[0;34m\u001b[0m\u001b[0;34m\u001b[0m\u001b[0m\n\u001b[0m\u001b[1;32m     31\u001b[0m \u001b[0;34m\u001b[0m\u001b[0m\n\u001b[1;32m     32\u001b[0m         \u001b[0;31m# 1D array\u001b[0m\u001b[0;34m\u001b[0m\u001b[0;34m\u001b[0m\u001b[0m\n\u001b[1;32m     33\u001b[0m         \u001b[0;32mif\u001b[0m \u001b[0mlen\u001b[0m\u001b[0;34m(\u001b[0m\u001b[0mindex\u001b[0m\u001b[0;34m)\u001b[0m \u001b[0;34m==\u001b[0m \u001b[0;36m1\u001b[0m\u001b[0;34m:\u001b[0m\u001b[0;34m\u001b[0m\u001b[0;34m\u001b[0m\u001b[0m\n",
      "\u001b[0;32m/opt/homebrew/anaconda3/lib/python3.13/site-packages/scipy/sparse/_index.py\u001b[0m in \u001b[0;36m?\u001b[0;34m(self, key)\u001b[0m\n\u001b[1;32m    279\u001b[0m                 \u001b[0;32mif\u001b[0m \u001b[0mix\u001b[0m\u001b[0;34m.\u001b[0m\u001b[0mshape\u001b[0m \u001b[0;34m!=\u001b[0m \u001b[0mmid_shape\u001b[0m\u001b[0;34m:\u001b[0m\u001b[0;34m\u001b[0m\u001b[0;34m\u001b[0m\u001b[0m\n\u001b[1;32m    280\u001b[0m                     raise IndexError(\n\u001b[1;32m    281\u001b[0m                         \u001b[0;34mf\"\u001b[0m\u001b[0;34mbool index \u001b[0m\u001b[0;34m{\u001b[0m\u001b[0mi\u001b[0m\u001b[0;34m}\u001b[0m\u001b[0;34m has shape \u001b[0m\u001b[0;34m{\u001b[0m\u001b[0mmid_shape\u001b[0m\u001b[0;34m}\u001b[0m\u001b[0;34m instead of \u001b[0m\u001b[0;34m{\u001b[0m\u001b[0mix\u001b[0m\u001b[0;34m.\u001b[0m\u001b[0mshape\u001b[0m\u001b[0;34m}\u001b[0m\u001b[0;34m\"\u001b[0m\u001b[0;34m\u001b[0m\u001b[0;34m\u001b[0m\u001b[0m\n\u001b[1;32m    282\u001b[0m                     \u001b[0;34m)\u001b[0m\u001b[0;34m\u001b[0m\u001b[0;34m\u001b[0m\u001b[0m\n\u001b[0;32m--> 283\u001b[0;31m                 \u001b[0mindex\u001b[0m\u001b[0;34m.\u001b[0m\u001b[0mextend\u001b[0m\u001b[0;34m(\u001b[0m\u001b[0mix\u001b[0m\u001b[0;34m.\u001b[0m\u001b[0mnonzero\u001b[0m\u001b[0;34m(\u001b[0m\u001b[0;34m)\u001b[0m\u001b[0;34m)\u001b[0m\u001b[0;34m\u001b[0m\u001b[0;34m\u001b[0m\u001b[0m\n\u001b[0m\u001b[1;32m    284\u001b[0m                 \u001b[0marray_indices\u001b[0m\u001b[0;34m.\u001b[0m\u001b[0mextend\u001b[0m\u001b[0;34m(\u001b[0m\u001b[0mrange\u001b[0m\u001b[0;34m(\u001b[0m\u001b[0mindex_ndim\u001b[0m\u001b[0;34m,\u001b[0m \u001b[0mtmp_ndim\u001b[0m\u001b[0;34m)\u001b[0m\u001b[0;34m)\u001b[0m\u001b[0;34m\u001b[0m\u001b[0;34m\u001b[0m\u001b[0m\n\u001b[1;32m    285\u001b[0m                 \u001b[0mindex_ndim\u001b[0m \u001b[0;34m=\u001b[0m \u001b[0mtmp_ndim\u001b[0m\u001b[0;34m\u001b[0m\u001b[0;34m\u001b[0m\u001b[0m\n\u001b[1;32m    286\u001b[0m             \u001b[0;32melse\u001b[0m\u001b[0;34m:\u001b[0m  \u001b[0;31m# dense array\u001b[0m\u001b[0;34m\u001b[0m\u001b[0;34m\u001b[0m\u001b[0m\n",
      "\u001b[0;32m/opt/homebrew/anaconda3/lib/python3.13/site-packages/pandas/core/generic.py\u001b[0m in \u001b[0;36m?\u001b[0;34m(self, name)\u001b[0m\n\u001b[1;32m   6295\u001b[0m             \u001b[0;32mand\u001b[0m \u001b[0mname\u001b[0m \u001b[0;32mnot\u001b[0m \u001b[0;32min\u001b[0m \u001b[0mself\u001b[0m\u001b[0;34m.\u001b[0m\u001b[0m_accessors\u001b[0m\u001b[0;34m\u001b[0m\u001b[0;34m\u001b[0m\u001b[0m\n\u001b[1;32m   6296\u001b[0m             \u001b[0;32mand\u001b[0m \u001b[0mself\u001b[0m\u001b[0;34m.\u001b[0m\u001b[0m_info_axis\u001b[0m\u001b[0;34m.\u001b[0m\u001b[0m_can_hold_identifiers_and_holds_name\u001b[0m\u001b[0;34m(\u001b[0m\u001b[0mname\u001b[0m\u001b[0;34m)\u001b[0m\u001b[0;34m\u001b[0m\u001b[0;34m\u001b[0m\u001b[0m\n\u001b[1;32m   6297\u001b[0m         \u001b[0;34m)\u001b[0m\u001b[0;34m:\u001b[0m\u001b[0;34m\u001b[0m\u001b[0;34m\u001b[0m\u001b[0m\n\u001b[1;32m   6298\u001b[0m             \u001b[0;32mreturn\u001b[0m \u001b[0mself\u001b[0m\u001b[0;34m[\u001b[0m\u001b[0mname\u001b[0m\u001b[0;34m]\u001b[0m\u001b[0;34m\u001b[0m\u001b[0;34m\u001b[0m\u001b[0m\n\u001b[0;32m-> 6299\u001b[0;31m         \u001b[0;32mreturn\u001b[0m \u001b[0mobject\u001b[0m\u001b[0;34m.\u001b[0m\u001b[0m__getattribute__\u001b[0m\u001b[0;34m(\u001b[0m\u001b[0mself\u001b[0m\u001b[0;34m,\u001b[0m \u001b[0mname\u001b[0m\u001b[0;34m)\u001b[0m\u001b[0;34m\u001b[0m\u001b[0;34m\u001b[0m\u001b[0m\n\u001b[0m",
      "\u001b[0;31mAttributeError\u001b[0m: 'Series' object has no attribute 'nonzero'"
     ]
    }
   ],
   "source": [
    "gears_model = GEARS(pert_data, device = 'cuda:7', \n",
    "                        weight_bias_track = False, \n",
    "                        proj_name = 'pertnet', \n",
    "                        exp_name = 'pertnet')\n",
    "gears_model.model_initialize(hidden_size = 64)"
   ]
  },
  {
   "cell_type": "markdown",
   "id": "28a89bd0",
   "metadata": {},
   "source": [
    "You can find available tunable parameters in model_initialize via"
   ]
  },
  {
   "cell_type": "code",
   "execution_count": 4,
   "id": "b06252f2",
   "metadata": {},
   "outputs": [
    {
     "data": {
      "text/plain": [
       "{'hidden_size': 'hidden dimension, default 64',\n",
       " 'num_go_gnn_layers': 'number of GNN layers for GO graph, default 1',\n",
       " 'num_gene_gnn_layers': 'number of GNN layers for co-expression gene graph, default 1',\n",
       " 'decoder_hidden_size': 'hidden dimension for gene-specific decoder, default 16',\n",
       " 'num_similar_genes_go_graph': 'number of maximum similar K genes in the GO graph, default 20',\n",
       " 'num_similar_genes_co_express_graph': 'number of maximum similar K genes in the co expression graph, default 20',\n",
       " 'coexpress_threshold': 'pearson correlation threshold when constructing coexpression graph, default 0.4',\n",
       " 'uncertainty': 'whether or not to turn on uncertainty mode, default False',\n",
       " 'uncertainty_reg': 'regularization term to balance uncertainty loss and prediction loss, default 1',\n",
       " 'direction_lambda': 'regularization term to balance direction loss and prediction loss, default 1'}"
      ]
     },
     "execution_count": 4,
     "metadata": {},
     "output_type": "execute_result"
    }
   ],
   "source": [
    "gears_model.tunable_parameters()"
   ]
  },
  {
   "cell_type": "markdown",
   "id": "4c70c8e0",
   "metadata": {},
   "source": [
    "Train your model:\n",
    "\n",
    "Note: For the sake of demo, we set epoch size to 1. To get full model, set `epochs = 20`."
   ]
  },
  {
   "cell_type": "code",
   "execution_count": 5,
   "id": "9b05b5cf",
   "metadata": {
    "scrolled": true
   },
   "outputs": [
    {
     "name": "stderr",
     "output_type": "stream",
     "text": [
      "Start Training...\n",
      "Epoch 1 Step 1 Train Loss: 0.5698\n",
      "Epoch 1 Step 51 Train Loss: 0.4839\n",
      "Epoch 1 Step 101 Train Loss: 0.4901\n",
      "Epoch 1 Step 151 Train Loss: 0.4075\n",
      "Epoch 1 Step 201 Train Loss: 0.5746\n",
      "Epoch 1 Step 251 Train Loss: 0.4715\n",
      "Epoch 1 Step 301 Train Loss: 0.4592\n",
      "Epoch 1 Step 351 Train Loss: 0.4402\n",
      "Epoch 1 Step 401 Train Loss: 0.5056\n",
      "Epoch 1 Step 451 Train Loss: 0.4829\n",
      "Epoch 1 Step 501 Train Loss: 0.3779\n",
      "Epoch 1 Step 551 Train Loss: 0.5310\n",
      "Epoch 1 Step 601 Train Loss: 0.4236\n",
      "Epoch 1 Step 651 Train Loss: 0.3958\n",
      "Epoch 1 Step 701 Train Loss: 0.4064\n",
      "Epoch 1 Step 751 Train Loss: 0.4564\n",
      "Epoch 1 Step 801 Train Loss: 0.5437\n",
      "Epoch 1 Step 851 Train Loss: 0.4514\n",
      "Epoch 1 Step 901 Train Loss: 0.3983\n",
      "Epoch 1 Step 951 Train Loss: 0.3882\n",
      "Epoch 1 Step 1001 Train Loss: 0.4543\n",
      "Epoch 1 Step 1051 Train Loss: 0.4775\n",
      "Epoch 1 Step 1101 Train Loss: 0.4316\n",
      "Epoch 1 Step 1151 Train Loss: 0.4562\n",
      "Epoch 1 Step 1201 Train Loss: 0.4734\n",
      "Epoch 1 Step 1251 Train Loss: 0.4545\n",
      "Epoch 1 Step 1301 Train Loss: 0.5209\n",
      "Epoch 1 Step 1351 Train Loss: 0.4603\n",
      "Epoch 1 Step 1401 Train Loss: 0.4277\n",
      "Epoch 1 Step 1451 Train Loss: 0.5338\n",
      "Epoch 1 Step 1501 Train Loss: 0.4677\n",
      "Epoch 1 Step 1551 Train Loss: 0.5447\n",
      "Epoch 1 Step 1601 Train Loss: 0.4739\n",
      "Epoch 1: Train Overall MSE: 0.0061 Validation Overall MSE: 0.0069. \n",
      "Train Top 20 DE MSE: 0.1758 Validation Top 20 DE MSE: 0.2167. \n",
      "Done!\n",
      "Start Testing...\n",
      "Best performing model: Test Top 20 DE MSE: 0.2540\n",
      "Start doing subgroup analysis for simulation split...\n",
      "test_combo_seen0_mse: 0.008835521\n",
      "test_combo_seen0_pearson: 0.97467689912096\n",
      "test_combo_seen0_mse_de: 0.23602708\n",
      "test_combo_seen0_pearson_de: 0.8291576005698412\n",
      "test_combo_seen1_mse: 0.011588639\n",
      "test_combo_seen1_pearson: 0.9693566612929557\n",
      "test_combo_seen1_mse_de: 0.283049\n",
      "test_combo_seen1_pearson_de: 0.824893174623376\n",
      "test_combo_seen2_mse: 0.008265204\n",
      "test_combo_seen2_pearson: 0.9767816770874406\n",
      "test_combo_seen2_mse_de: 0.23843616\n",
      "test_combo_seen2_pearson_de: 0.9310945429439097\n",
      "test_unseen_single_mse: 0.005175899\n",
      "test_unseen_single_pearson: 0.9848590164640408\n",
      "test_unseen_single_mse_de: 0.22512747\n",
      "test_unseen_single_pearson_de: 0.8633892815507775\n",
      "test_combo_seen0_pearson_delta: 0.47928598136890105\n",
      "test_combo_seen0_frac_opposite_direction_top20_non_dropout: 0.1388888888888889\n",
      "test_combo_seen0_frac_sigma_below_1_non_dropout: 0.8333333333333333\n",
      "test_combo_seen0_mse_top20_de_non_dropout: 0.28635967\n",
      "test_combo_seen1_pearson_delta: 0.46109917867026595\n",
      "test_combo_seen1_frac_opposite_direction_top20_non_dropout: 0.16346153846153846\n",
      "test_combo_seen1_frac_sigma_below_1_non_dropout: 0.7605769230769232\n",
      "test_combo_seen1_mse_top20_de_non_dropout: 0.33671263\n",
      "test_combo_seen2_pearson_delta: 0.4869598740235377\n",
      "test_combo_seen2_frac_opposite_direction_top20_non_dropout: 0.10555555555555557\n",
      "test_combo_seen2_frac_sigma_below_1_non_dropout: 0.875\n",
      "test_combo_seen2_mse_top20_de_non_dropout: 0.24442989\n",
      "test_unseen_single_pearson_delta: 0.24608358110563455\n",
      "test_unseen_single_frac_opposite_direction_top20_non_dropout: 0.32837837837837835\n",
      "test_unseen_single_frac_sigma_below_1_non_dropout: 0.7959459459459457\n",
      "test_unseen_single_mse_top20_de_non_dropout: 0.25129005\n",
      "Done!\n"
     ]
    }
   ],
   "source": [
    "gears_model.train(epochs = 1, lr = 1e-3)"
   ]
  },
  {
   "cell_type": "markdown",
   "id": "a9433533",
   "metadata": {},
   "source": [
    "Save and load pretrained models:"
   ]
  },
  {
   "cell_type": "code",
   "execution_count": 6,
   "id": "d971814f",
   "metadata": {},
   "outputs": [],
   "source": [
    "gears_model.save_model('test_model')\n",
    "gears_model.load_pretrained('test_model')"
   ]
  },
  {
   "cell_type": "markdown",
   "id": "cab7dce6",
   "metadata": {},
   "source": [
    "Make prediction for new perturbation:"
   ]
  },
  {
   "cell_type": "code",
   "execution_count": 7,
   "id": "97401885",
   "metadata": {},
   "outputs": [
    {
     "data": {
      "text/plain": [
       "{'FEV': array([-1.5115363e-06,  4.4304952e-02,  1.0309354e-01, ...,\n",
       "         3.3967001e+00,  7.8529231e-03,  1.0920237e-31], dtype=float32),\n",
       " 'FEV_SAMD11': array([-2.2916190e-06,  9.7577907e-02,  1.6493453e-01, ...,\n",
       "         3.2082996e+00,  7.6769367e-03,  1.7619579e-31], dtype=float32)}"
      ]
     },
     "execution_count": 7,
     "metadata": {},
     "output_type": "execute_result"
    }
   ],
   "source": [
    "gears_model.predict([['FEV'], ['FEV', 'AHR']])"
   ]
  },
  {
   "cell_type": "markdown",
   "id": "a39f0b3d",
   "metadata": {},
   "source": [
    "Gene list can be found here:"
   ]
  },
  {
   "cell_type": "code",
   "execution_count": 8,
   "id": "fbf63f96",
   "metadata": {},
   "outputs": [
    {
     "data": {
      "text/plain": [
       "['RP11-34P13.8', 'RP11-54O7.3', 'SAMD11', 'PERM1', 'HES4']"
      ]
     },
     "execution_count": 8,
     "metadata": {},
     "output_type": "execute_result"
    }
   ],
   "source": [
    "gears_model.gene_list[:5]"
   ]
  }
 ],
 "metadata": {
  "kernelspec": {
   "display_name": "Python (gears)",
   "language": "python",
   "name": "gears"
  },
  "language_info": {
   "codemirror_mode": {
    "name": "ipython",
    "version": 3
   },
   "file_extension": ".py",
   "mimetype": "text/x-python",
   "name": "python",
   "nbconvert_exporter": "python",
   "pygments_lexer": "ipython3",
   "version": "3.13.5"
  }
 },
 "nbformat": 4,
 "nbformat_minor": 5
}
